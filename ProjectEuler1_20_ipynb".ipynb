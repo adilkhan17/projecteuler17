{
  "nbformat": 4,
  "nbformat_minor": 0,
  "metadata": {
    "colab": {
      "provenance": [],
      "authorship_tag": "ABX9TyMsnNUKxzoIt7tlSzNlC7YD",
      "include_colab_link": true
    },
    "kernelspec": {
      "name": "python3",
      "display_name": "Python 3"
    },
    "language_info": {
      "name": "python"
    }
  },
  "cells": [
    {
      "cell_type": "markdown",
      "metadata": {
        "id": "view-in-github",
        "colab_type": "text"
      },
      "source": [
        "<a href=\"https://colab.research.google.com/github/adilkhan17/projecteuler17/blob/main/ProjectEuler1_20_ipynb%22.ipynb\" target=\"_parent\"><img src=\"https://colab.research.google.com/assets/colab-badge.svg\" alt=\"Open In Colab\"/></a>"
      ]
    },
    {
      "cell_type": "markdown",
      "source": [
        "3. Largest Prime Factor"
      ],
      "metadata": {
        "id": "3AHsCU60KheM"
      }
    },
    {
      "cell_type": "code",
      "source": [
        "def largest_prime_divisor(number):\n",
        "    divisor = 2\n",
        "    while divisor * divisor <= number:\n",
        "        if number % divisor == 0:\n",
        "            number //= divisor\n",
        "        else:\n",
        "            divisor += 1\n",
        "    return number\n",
        "\n",
        "number = 600851475143\n",
        "largest_prime = largest_prime_divisor(number)\n",
        "print(largest_prime)"
      ],
      "metadata": {
        "colab": {
          "base_uri": "https://localhost:8080/"
        },
        "id": "Dtx0CI40KmeD",
        "outputId": "d8231c53-b652-44a8-9395-abfdfd625575"
      },
      "execution_count": 1,
      "outputs": [
        {
          "output_type": "stream",
          "name": "stdout",
          "text": [
            "6857\n"
          ]
        }
      ]
    },
    {
      "cell_type": "markdown",
      "source": [
        "4. Largest Palindrome Product"
      ],
      "metadata": {
        "id": "oGRb50YZKyQJ"
      }
    },
    {
      "cell_type": "code",
      "source": [
        "def is_palindrome(number):\n",
        "    return str(number) == str(number)[::-1]\n",
        "\n",
        "def largest_palindrome_product():\n",
        "    largest_palindrome = 0\n",
        "    for i in range(999, 99, -1):\n",
        "        for j in range(999, 99, -1):\n",
        "            product = i * j\n",
        "            if is_palindrome(product) and product > largest_palindrome:\n",
        "                largest_palindrome = product\n",
        "    return largest_palindrome\n",
        "\n",
        "largest_palindrome = largest_palindrome_product()\n",
        "print(largest_palindrome)\n"
      ],
      "metadata": {
        "colab": {
          "base_uri": "https://localhost:8080/"
        },
        "id": "3s9NjP1jKtzQ",
        "outputId": "4294f834-c568-498b-c34e-ea3d185363ad"
      },
      "execution_count": 2,
      "outputs": [
        {
          "output_type": "stream",
          "name": "stdout",
          "text": [
            "906609\n"
          ]
        }
      ]
    },
    {
      "cell_type": "code",
      "source": [],
      "metadata": {
        "id": "8K36W9QEMsYm"
      },
      "execution_count": null,
      "outputs": []
    }
  ]
}